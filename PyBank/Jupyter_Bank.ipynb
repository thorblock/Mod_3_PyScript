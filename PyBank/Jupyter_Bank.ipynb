{
 "cells": [
  {
   "cell_type": "code",
   "execution_count": 66,
   "metadata": {},
   "outputs": [],
   "source": [
    "# Import packages\n",
    "import os\n",
    "import csv"
   ]
  },
  {
   "cell_type": "code",
   "execution_count": 67,
   "metadata": {},
   "outputs": [],
   "source": [
    "# Create and store filepath\n",
    "budget_csv = os.path.join(\"\",\"Resources\",\"budget_data.csv\")"
   ]
  },
  {
   "cell_type": "code",
   "execution_count": 68,
   "metadata": {},
   "outputs": [],
   "source": [
    "# lists to store csv read\n",
    "date = []\n",
    "profit_loss = []\n",
    "# list to store column mutation on profit_loss\n",
    "monthly_change = []"
   ]
  },
  {
   "cell_type": "code",
   "execution_count": 69,
   "metadata": {},
   "outputs": [],
   "source": [
    "# var iteration as we go, rerun for each loop change\n",
    "total_profit = 0\n",
    "total_change_profit = 0\n",
    "initial_profit = 0\n",
    "\n",
    "# Open and read csv, with open\n",
    "with open(budget_csv) as budget_csv_file:\n",
    "    budget_read = csv.reader(budget_csv_file, delimiter = \",\")\n",
    "    # denote header\n",
    "    header = next(budget_read)\n",
    "    # denote headless set\n",
    "    headless_budget = [row for row in budget_read]\n",
    "    # read through rows append column heads to row[num]\n",
    "    for row in headless_budget:\n",
    "        # append date list, 0\n",
    "        date.append(row[0])\n",
    "        # append profit_loss, 1\n",
    "        profit_loss.append(row[1])\n",
    "        # using int to ensure number\n",
    "        total_profit =  total_profit + int(row[1])\n",
    "        final_profit = int(row[1])\n",
    "        # at start of iteration initial profit is 0\n",
    "        change_in_profit = final_profit - initial_profit\n",
    "        # append monthly_change\n",
    "        monthly_change.append(change_in_profit)\n",
    "        #iterate total_change_profit by adding supp calc for change_in_profit\n",
    "        total_change_profit = total_change_profit + change_in_profit"
   ]
  },
  {
   "cell_type": "code",
   "execution_count": 71,
   "metadata": {},
   "outputs": [
    {
     "name": "stdout",
     "output_type": "stream",
     "text": [
      "86\n"
     ]
    }
   ],
   "source": [
    "# months iteration\n",
    "months = 0\n",
    "for number in date:\n",
    "    months += 1\n",
    "print(months)"
   ]
  },
  {
   "cell_type": "code",
   "execution_count": 72,
   "metadata": {},
   "outputs": [
    {
     "data": {
      "text/plain": [
       "-8311.105882352942"
      ]
     },
     "execution_count": 72,
     "metadata": {},
     "output_type": "execute_result"
    }
   ],
   "source": [
    "# this works, but the diff list by itself is super weird\n",
    "# refactor monthly_change\n",
    "diff = []\n",
    "for i in range(1, len(monthly_change)):\n",
    "    rec = monthly_change[i] - monthly_change[i-1]\n",
    "    diff.append(rec)\n",
    "    \n",
    "diff_sum = sum(diff)\n",
    "diff_avg = diff_sum/(months-1)\n",
    "print(diff_avg)"
   ]
  },
  {
   "cell_type": "code",
   "execution_count": 28,
   "metadata": {},
   "outputs": [
    {
     "data": {
      "text/plain": [
       "22564198"
      ]
     },
     "execution_count": 28,
     "metadata": {},
     "output_type": "execute_result"
    }
   ],
   "source": [
    "total_change_profit"
   ]
  },
  {
   "cell_type": "code",
   "execution_count": 78,
   "metadata": {},
   "outputs": [],
   "source": [
    "# id largest value\n",
    "greatest_increase = max(monthly_change)\n",
    "# use largest value to index against and find the date\n",
    "inc_date = date[monthly_change.index(greatest_increase)]\n",
    "# id lowest value\n",
    "greatest_decrease = min(monthly_change)\n",
    "# ''\n",
    "dec_date = date[monthly_change.index(greatest_decrease)]"
   ]
  },
  {
   "cell_type": "code",
   "execution_count": 82,
   "metadata": {},
   "outputs": [
    {
     "name": "stdout",
     "output_type": "stream",
     "text": [
      "Financial Analysis\n",
      "---------------------------------------------\n",
      "Total Months: 86\n",
      "Total:  22564198\n",
      "Average Change: -8311.106\n",
      "Greatest Increase in Profits: Mar-13: 1141840\n",
      "Greatest Decrease in Profits: Dec-10: -1194133\n"
     ]
    }
   ],
   "source": [
    "print(\"Financial Analysis\")\n",
    "print(f\"-\"*45)\n",
    "print(f\"Total Months: {months}\")\n",
    "print(f\"Total:  {total_change_profit}\") \n",
    "print(f\"Average Change: {round(diff_avg,3)}\")\n",
    "print(f\"Greatest Increase in Profits: {inc_date}: {greatest_increase}\")\n",
    "print(f\"Greatest Decrease in Profits: {dec_date}: {greatest_decrease}\")"
   ]
  }
 ],
 "metadata": {
  "kernelspec": {
   "display_name": "Python 3",
   "language": "python",
   "name": "python3"
  },
  "language_info": {
   "codemirror_mode": {
    "name": "ipython",
    "version": 3
   },
   "file_extension": ".py",
   "mimetype": "text/x-python",
   "name": "python",
   "nbconvert_exporter": "python",
   "pygments_lexer": "ipython3",
   "version": "3.11.4"
  },
  "orig_nbformat": 4
 },
 "nbformat": 4,
 "nbformat_minor": 2
}
