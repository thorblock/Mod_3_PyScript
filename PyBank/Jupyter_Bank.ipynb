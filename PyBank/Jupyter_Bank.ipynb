{
 "cells": [
  {
   "cell_type": "code",
   "execution_count": 6,
   "metadata": {},
   "outputs": [],
   "source": [
    "# Import packages\n",
    "import os\n",
    "import csv"
   ]
  },
  {
   "cell_type": "code",
   "execution_count": 21,
   "metadata": {},
   "outputs": [],
   "source": [
    "# Create and store filepath\n",
    "budget_csv = os.path.join(\"\",\"Resources\",\"budget_data.csv\")\n",
    "\n",
    "# Col names as empty lists\n",
    "date = []\n",
    "profit_losses = []\n",
    "month = []\n",
    "year = []\n"
   ]
  },
  {
   "cell_type": "code",
   "execution_count": 28,
   "metadata": {},
   "outputs": [],
   "source": [
    "# Open and read csv, with open\n",
    "with open(budget_csv) as budget_csv_file:\n",
    "    budget_read = csv.reader(budget_csv_file, delimiter = \",\")\n",
    "    # read through rows append column heads to row[num], too many sets, needs peel\n",
    "    for row in budget_read:\n",
    "        # append date list, 0\n",
    "        date.append(row[0])\n",
    "        # append profit_losses, 1\n",
    "        profit_losses.append(row[1])\n",
    "        # Unsure if the csv date is hashed as month-day or month-year?\n",
    "        # lets split as if it were month-year, AT-D2,  i might be creating problems for myself\n",
    "        date_split = row[0].split(\"-\")\n",
    "        month.append(date_split[0]) # this might not be it\n",
    "        year.append(date_split[0]) # this definitely is not it\n",
    "        \n",
    "# zip le split \n",
    "budget_clean = zip(date,profit_losses,month,year) "
   ]
  },
  {
   "cell_type": "code",
   "execution_count": 31,
   "metadata": {},
   "outputs": [],
   "source": [
    "# var set output of budget_clean\n",
    "output_clean = os.path.join(\"budget_clean.csv\")\n",
    "\n",
    "# with open clean file\n",
    "with open(output_clean,\"w\") as budgetfile:\n",
    "    head_write = csv.writer(budgetfile)\n",
    "    # setting month and year to the end, placing it in the middle is a no go\n",
    "    head_write.writerow([\"Date\",\"Profit/Losses\",\"Month\",\"Year\"])\n",
    "    head_write.writerows(budget_clean)\n",
    "# output csv is hilariously messed up, might be a re-run issue?"
   ]
  }
 ],
 "metadata": {
  "kernelspec": {
   "display_name": "Python 3",
   "language": "python",
   "name": "python3"
  },
  "language_info": {
   "codemirror_mode": {
    "name": "ipython",
    "version": 3
   },
   "file_extension": ".py",
   "mimetype": "text/x-python",
   "name": "python",
   "nbconvert_exporter": "python",
   "pygments_lexer": "ipython3",
   "version": "3.11.4"
  },
  "orig_nbformat": 4
 },
 "nbformat": 4,
 "nbformat_minor": 2
}
