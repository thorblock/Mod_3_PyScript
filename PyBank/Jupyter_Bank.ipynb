{
 "cells": [
  {
   "cell_type": "code",
   "execution_count": 2,
   "metadata": {},
   "outputs": [],
   "source": [
    "# Import packages\n",
    "import os\n",
    "import csv"
   ]
  },
  {
   "cell_type": "code",
   "execution_count": 3,
   "metadata": {},
   "outputs": [],
   "source": [
    "# Create and store filepath\n",
    "budget_csv = os.path.join(\"\",\"Resources\",\"budget_data.csv\")"
   ]
  },
  {
   "cell_type": "code",
   "execution_count": 4,
   "metadata": {},
   "outputs": [],
   "source": [
    "# lists to store csv read\n",
    "date = []\n",
    "profit_loss = []\n",
    "# list to store column mutation on profit_loss\n",
    "monthly_change = []"
   ]
  },
  {
   "cell_type": "code",
   "execution_count": 5,
   "metadata": {},
   "outputs": [],
   "source": [
    "# Open and read csv, with open\n",
    "with open(budget_csv) as budget_csv_file:\n",
    "    budget_read = csv.reader(budget_csv_file, delimiter = \",\")\n",
    "    # denote header\n",
    "    header = next(budget_read)\n",
    "    # denote headless set\n",
    "    headless_budget = [row for row in budget_read]\n",
    "    # read through rows append column heads to row[num]\n",
    "    for row in headless_budget:\n",
    "        # append date list, 0\n",
    "        date.append(row[0])\n",
    "        # append profit_loss, 1\n",
    "        profit_loss.append(row[1])"
   ]
  },
  {
   "cell_type": "code",
   "execution_count": 20,
   "metadata": {},
   "outputs": [],
   "source": [
    "# var iteration as we go, rerun for each loop change\n",
    "total_profit = 0\n",
    "total_change_profit = 0\n",
    "initial_profit = 0"
   ]
  },
  {
   "cell_type": "code",
   "execution_count": 21,
   "metadata": {},
   "outputs": [
    {
     "name": "stdout",
     "output_type": "stream",
     "text": [
      "86\n"
     ]
    }
   ],
   "source": [
    "# months iteration\n",
    "months = 0\n",
    "for number in date:\n",
    "    months += 1\n",
    "print(months)"
   ]
  },
  {
   "cell_type": "code",
   "execution_count": 22,
   "metadata": {},
   "outputs": [],
   "source": [
    "# looping through all observations to tally profit and losses month to month\n",
    "for obs in headless_budget:\n",
    "    total_profit =  total_profit + int(obs[1])\n",
    "    \n",
    "    final_profit = int(obs[1])\n",
    "    # at start of iteration initial profit is 0\n",
    "    change_in_profit = final_profit - initial_profit\n",
    "    # append monthly_change\n",
    "    monthly_change.append(change_in_profit)\n",
    "    #iterate total_change_profit by adding supp calc for change_in_profit\n",
    "    total_change_profit = total_change_profit + change_in_profit\n",
    "    \n",
    "\n",
    "    "
   ]
  },
  {
   "cell_type": "code",
   "execution_count": 23,
   "metadata": {},
   "outputs": [
    {
     "data": {
      "text/plain": [
       "22564198"
      ]
     },
     "execution_count": 23,
     "metadata": {},
     "output_type": "execute_result"
    }
   ],
   "source": [
    "total_change_profit"
   ]
  },
  {
   "cell_type": "code",
   "execution_count": 34,
   "metadata": {},
   "outputs": [
    {
     "name": "stdout",
     "output_type": "stream",
     "text": [
      "Financial Analysis\n",
      "----------------------------------------\n",
      "Total Months: \n",
      "Total:  1147617\n",
      "Average Change: \n",
      "Greatest Increase in Profits: \n",
      "Greatest Decrease in Profits: \n"
     ]
    }
   ],
   "source": [
    "print(\"Financial Analysis\")\n",
    "print(f\"-\"*45)\n",
    "print(f\"Total Months: \")\n",
    "print(f\"Total: \" ,) # need to check over loop, weird sum\n",
    "print(f\"Average Change: \")\n",
    "print(f\"Greatest Increase in Profits: \")\n",
    "print(f\"Greatest Decrease in Profits: \")"
   ]
  }
 ],
 "metadata": {
  "kernelspec": {
   "display_name": "Python 3",
   "language": "python",
   "name": "python3"
  },
  "language_info": {
   "codemirror_mode": {
    "name": "ipython",
    "version": 3
   },
   "file_extension": ".py",
   "mimetype": "text/x-python",
   "name": "python",
   "nbconvert_exporter": "python",
   "pygments_lexer": "ipython3",
   "version": "3.11.4"
  },
  "orig_nbformat": 4
 },
 "nbformat": 4,
 "nbformat_minor": 2
}
