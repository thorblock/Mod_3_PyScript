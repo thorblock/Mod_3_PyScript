{
 "cells": [
  {
   "cell_type": "code",
   "execution_count": 1,
   "metadata": {},
   "outputs": [],
   "source": [
    "# Import packages\n",
    "import os\n",
    "import csv"
   ]
  },
  {
   "cell_type": "code",
   "execution_count": 2,
   "metadata": {},
   "outputs": [],
   "source": [
    "# Create and store filepath\n",
    "budget_csv = os.path.join(\"\",\"Resources\",\"budget_data.csv\")\n",
    "\n",
    "# Col names as empty lists\n",
    "date = []\n",
    "profit_losses = []\n",
    "month = []\n",
    "year = []\n"
   ]
  },
  {
   "cell_type": "code",
   "execution_count": 8,
   "metadata": {},
   "outputs": [],
   "source": [
    "# Open and read csv, with open\n",
    "with open(budget_csv) as budget_csv_file:\n",
    "    budget_read = csv.reader(budget_csv_file, delimiter = \",\")\n",
    "    # read through rows append column heads to row[num], too many sets, needs peel\n",
    "    for row in budget_read:\n",
    "        # append date list, 0\n",
    "        date.append(row[0])\n",
    "        # append profit_losses, 1\n",
    "        profit_losses.append(row[1])\n",
    "       "
   ]
  },
  {
   "cell_type": "code",
   "execution_count": 12,
   "metadata": {},
   "outputs": [
    {
     "data": {
      "text/plain": [
       "<zip at 0x2cc6f7fcf40>"
      ]
     },
     "execution_count": 12,
     "metadata": {},
     "output_type": "execute_result"
    }
   ],
   "source": []
  },
  {
   "cell_type": "code",
   "execution_count": 13,
   "metadata": {},
   "outputs": [],
   "source": [
    "# var set output of budget_clean\n",
    "output_clean = os.path.join(\"budget_clean.csv\")\n",
    "\n",
    "# with open clean file\n",
    "with open(output_clean,\"w\") as budgetfile:\n",
    "    head_write = csv.writer(budgetfile)\n",
    "    # setting month and year to the end, placing it in the middle is a no go\n",
    "    head_write.writerow([\"Date\",\"Profit/Losses\",\"Month\",\"Year\"])\n",
    "    head_write.writerows(budget_clean)\n",
    "# output csv is hilariously messed up, might be a re-run issue?"
   ]
  }
 ],
 "metadata": {
  "kernelspec": {
   "display_name": "Python 3",
   "language": "python",
   "name": "python3"
  },
  "language_info": {
   "codemirror_mode": {
    "name": "ipython",
    "version": 3
   },
   "file_extension": ".py",
   "mimetype": "text/x-python",
   "name": "python",
   "nbconvert_exporter": "python",
   "pygments_lexer": "ipython3",
   "version": "3.11.4"
  },
  "orig_nbformat": 4
 },
 "nbformat": 4,
 "nbformat_minor": 2
}
