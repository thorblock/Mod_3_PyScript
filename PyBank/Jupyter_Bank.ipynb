{
 "cells": [
  {
   "cell_type": "code",
   "execution_count": 1,
   "metadata": {},
   "outputs": [],
   "source": [
    "# Import packages\n",
    "import os\n",
    "import csv"
   ]
  },
  {
   "cell_type": "code",
   "execution_count": 2,
   "metadata": {},
   "outputs": [],
   "source": [
    "# Create and store filepath\n",
    "budget_csv = os.path.join(\"\",\"Resources\",\"budget_data.csv\")\n",
    "\n",
    "# Col names as empty lists\n",
    "date = []\n",
    "profit_losses = []\n",
    "\n",
    "# tracking summation vars\n",
    "profit_sum = 0\n",
    "month_step = 0"
   ]
  },
  {
   "cell_type": "code",
   "execution_count": 33,
   "metadata": {},
   "outputs": [],
   "source": [
    "# Open and read csv, with open\n",
    "with open(budget_csv) as budget_csv_file:\n",
    "    budget_read = csv.reader(budget_csv_file, delimiter = \",\")\n",
    "    # read through rows append column heads to row[num], too many sets, needs peel\n",
    "    for row in budget_read:\n",
    "        # append date list, 0\n",
    "        date.append(row[0])\n",
    "        # append profit_losses, 1\n",
    "        profit_losses.append(row[1])\n",
    "        #print(row)\n",
    "# Doublecheck \n",
    "    "
   ]
  },
  {
   "cell_type": "code",
   "execution_count": 34,
   "metadata": {},
   "outputs": [
    {
     "name": "stdout",
     "output_type": "stream",
     "text": [
      "Financial Analysis\n",
      "----------------------------------------\n",
      "Total Months: \n",
      "Total:  1147617\n",
      "Average Change: \n",
      "Greatest Increase in Profits: \n",
      "Greatest Decrease in Profits: \n"
     ]
    }
   ],
   "source": [
    "print(\"Financial Analysis\")\n",
    "print(f\"-\"*40)\n",
    "print(f\"Total Months: \")\n",
    "print(f\"Total: \" , profit_sum) # need to check over loop, weird sum\n",
    "print(f\"Average Change: \")\n",
    "print(f\"Greatest Increase in Profits: \")\n",
    "print(f\"Greatest Decrease in Profits: \")"
   ]
  }
 ],
 "metadata": {
  "kernelspec": {
   "display_name": "Python 3",
   "language": "python",
   "name": "python3"
  },
  "language_info": {
   "codemirror_mode": {
    "name": "ipython",
    "version": 3
   },
   "file_extension": ".py",
   "mimetype": "text/x-python",
   "name": "python",
   "nbconvert_exporter": "python",
   "pygments_lexer": "ipython3",
   "version": "3.11.4"
  },
  "orig_nbformat": 4
 },
 "nbformat": 4,
 "nbformat_minor": 2
}
