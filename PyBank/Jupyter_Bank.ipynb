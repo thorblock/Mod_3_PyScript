{
 "cells": [
  {
   "cell_type": "code",
   "execution_count": 1,
   "metadata": {},
   "outputs": [],
   "source": [
    "# Import packages\n",
    "import os\n",
    "import csv"
   ]
  },
  {
   "cell_type": "code",
   "execution_count": 5,
   "metadata": {},
   "outputs": [],
   "source": [
    "# Create and store filepath\n",
    "budget_csv = os.path.join(\"\",\"Resources\",\"budget_data.csv\")\n",
    "\n",
    "# Col names as empty lists\n",
    "date = []\n",
    "profit_losses = []\n",
    "\n",
    "# var set\n",
    "months = 0 #setting iteration start in each jupyter block\n",
    "profit_sum = 0\n",
    "# setting this as prev/current, something to reference in loop\n",
    "month_current = 0"
   ]
  },
  {
   "cell_type": "code",
   "execution_count": 3,
   "metadata": {},
   "outputs": [
    {
     "name": "stdout",
     "output_type": "stream",
     "text": [
      "['Jan-10', '1088983']\n",
      "['Feb-10', '-354534']\n",
      "['Mar-10', '276622']\n",
      "['Apr-10', '-728133']\n",
      "['May-10', '852993']\n",
      "['Jun-10', '563721']\n",
      "['Jul-10', '-535208']\n",
      "['Aug-10', '632349']\n",
      "['Sep-10', '-173744']\n",
      "['Oct-10', '950741']\n",
      "['Nov-10', '-785750']\n",
      "['Dec-10', '-1194133']\n",
      "['Jan-11', '-589576']\n",
      "['Feb-11', '-883921']\n",
      "['Mar-11', '443564']\n",
      "['Apr-11', '837887']\n",
      "['May-11', '1081472']\n",
      "['Jun-11', '464033']\n",
      "['Jul-11', '-1066544']\n",
      "['Aug-11', '323846']\n",
      "['Sep-11', '-806551']\n",
      "['Oct-11', '487053']\n",
      "['Nov-11', '1128811']\n",
      "['Dec-11', '791398']\n",
      "['Jan-12', '739367']\n",
      "['Feb-12', '-197825']\n",
      "['Mar-12', '666016']\n",
      "['Apr-12', '589771']\n",
      "['May-12', '489290']\n",
      "['Jun-12', '-471439']\n",
      "['Jul-12', '120417']\n",
      "['Aug-12', '175347']\n",
      "['Sep-12', '855449']\n",
      "['Oct-12', '605195']\n",
      "['Nov-12', '-235220']\n",
      "['Dec-12', '347138']\n",
      "['Jan-13', '298510']\n",
      "['Feb-13', '163254']\n",
      "['Mar-13', '1141840']\n",
      "['Apr-13', '542630']\n",
      "['May-13', '99841']\n",
      "['Jun-13', '752765']\n",
      "['Jul-13', '-252949']\n",
      "['Aug-13', '914424']\n",
      "['Sep-13', '679524']\n",
      "['Oct-13', '514377']\n",
      "['Nov-13', '462102']\n",
      "['Dec-13', '159782']\n",
      "['Jan-14', '878810']\n",
      "['Feb-14', '-946748']\n",
      "['Mar-14', '340335']\n",
      "['Apr-14', '292032']\n",
      "['May-14', '502266']\n",
      "['Jun-14', '265852']\n",
      "['Jul-14', '851017']\n",
      "['Aug-14', '-549615']\n",
      "['Sep-14', '290162']\n",
      "['Oct-14', '755391']\n",
      "['Nov-14', '1073202']\n",
      "['Dec-14', '313000']\n",
      "['Jan-15', '241132']\n",
      "['Feb-15', '1036589']\n",
      "['Mar-15', '853904']\n",
      "['Apr-15', '-388932']\n",
      "['May-15', '982952']\n",
      "['Jun-15', '537759']\n",
      "['Jul-15', '547784']\n",
      "['Aug-15', '-496214']\n",
      "['Sep-15', '854181']\n",
      "['Oct-15', '934719']\n",
      "['Nov-15', '-288531']\n",
      "['Dec-15', '-184383']\n",
      "['Jan-16', '659541']\n",
      "['Feb-16', '-1149123']\n",
      "['Mar-16', '355882']\n",
      "['Apr-16', '662284']\n",
      "['May-16', '518681']\n",
      "['Jun-16', '-748256']\n",
      "['Jul-16', '-910775']\n",
      "['Aug-16', '951227']\n",
      "['Sep-16', '898241']\n",
      "['Oct-16', '-729004']\n",
      "['Nov-16', '-112209']\n",
      "['Dec-16', '516313']\n",
      "['Jan-17', '607208']\n",
      "['Feb-17', '382539']\n"
     ]
    }
   ],
   "source": [
    "# Open and read csv, with open\n",
    "with open(budget_csv) as budget_csv_file:\n",
    "    budget_read = csv.reader(budget_csv_file, delimiter = \",\")\n",
    "    # denote header\n",
    "    header = next(budget_read)\n",
    "    # denote headless set\n",
    "    headless_budget = [row for row in budget_read]\n",
    "    # read through rows append column heads to row[num]\n",
    "    for row in headless_budget:\n",
    "        # append date list, 0\n",
    "        date.append(row[0])\n",
    "        # append profit_losses, 1\n",
    "        profit_losses.append(row[1])\n",
    "        print(row)\n"
   ]
  },
  {
   "cell_type": "code",
   "execution_count": 4,
   "metadata": {},
   "outputs": [
    {
     "name": "stdout",
     "output_type": "stream",
     "text": [
      "86\n"
     ]
    }
   ],
   "source": [
    "# months iteration\n",
    "months = 0\n",
    "for number in date:\n",
    "    months += 1\n",
    "\n",
    "print(months)"
   ]
  },
  {
   "cell_type": "code",
   "execution_count": null,
   "metadata": {},
   "outputs": [],
   "source": [
    "for row in headless_budget:\n",
    "   months +=1\n",
    "   profit_sum = \n",
    "    "
   ]
  },
  {
   "cell_type": "code",
   "execution_count": 34,
   "metadata": {},
   "outputs": [
    {
     "name": "stdout",
     "output_type": "stream",
     "text": [
      "Financial Analysis\n",
      "----------------------------------------\n",
      "Total Months: \n",
      "Total:  1147617\n",
      "Average Change: \n",
      "Greatest Increase in Profits: \n",
      "Greatest Decrease in Profits: \n"
     ]
    }
   ],
   "source": [
    "print(\"Financial Analysis\")\n",
    "print(f\"-\"*40)\n",
    "print(f\"Total Months: \")\n",
    "print(f\"Total: \" , profit_sum) # need to check over loop, weird sum\n",
    "print(f\"Average Change: \")\n",
    "print(f\"Greatest Increase in Profits: \")\n",
    "print(f\"Greatest Decrease in Profits: \")"
   ]
  }
 ],
 "metadata": {
  "kernelspec": {
   "display_name": "Python 3",
   "language": "python",
   "name": "python3"
  },
  "language_info": {
   "codemirror_mode": {
    "name": "ipython",
    "version": 3
   },
   "file_extension": ".py",
   "mimetype": "text/x-python",
   "name": "python",
   "nbconvert_exporter": "python",
   "pygments_lexer": "ipython3",
   "version": "3.11.4"
  },
  "orig_nbformat": 4
 },
 "nbformat": 4,
 "nbformat_minor": 2
}
