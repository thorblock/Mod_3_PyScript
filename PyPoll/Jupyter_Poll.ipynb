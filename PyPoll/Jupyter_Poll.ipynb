{
 "cells": [
  {
   "cell_type": "code",
   "execution_count": 2,
   "metadata": {},
   "outputs": [],
   "source": [
    "# Import packages\n",
    "import os\n",
    "import csv"
   ]
  },
  {
   "cell_type": "code",
   "execution_count": 3,
   "metadata": {},
   "outputs": [],
   "source": [
    "# Create and store filepath\n",
    "election_csv = os.path.join(\"\",\"Resources\",\"election_data.csv\")\n",
    "\n",
    "# Col names as empty lists\n",
    "ballot = []\n",
    "county = []\n",
    "candidate = []"
   ]
  },
  {
   "cell_type": "code",
   "execution_count": null,
   "metadata": {},
   "outputs": [],
   "source": [
    "# Open and read csv, with open\n",
    "with open(election_csv) as election_csv_file:\n",
    "    election_read = csv.reader(election_csv_file, delimiter = \",\")\n",
    "    # read through rows append column heads to row[num]\n",
    "    for row in election_read:\n",
    "        # append ballot list, 0\n",
    "        ballot.append(row[0])\n",
    "        # append county list, 1\n",
    "        county.append(row[1])\n",
    "        # append candidate list, 2\n",
    "        candidate.append(row[2])\n",
    "        #print(row)"
   ]
  },
  {
   "cell_type": "code",
   "execution_count": 8,
   "metadata": {},
   "outputs": [
    {
     "name": "stdout",
     "output_type": "stream",
     "text": [
      "369711\n"
     ]
    }
   ],
   "source": [
    "observations = 0 \n",
    "for value in ballot:\n",
    "    observations += 1\n",
    "\n",
    "print(observations - 1) # -1 because header is being counted"
   ]
  },
  {
   "cell_type": "code",
   "execution_count": 10,
   "metadata": {},
   "outputs": [
    {
     "name": "stdout",
     "output_type": "stream",
     "text": [
      "Candidate:  Candidate -- Votes:  1\n",
      "Candidate:  Charles Casper Stockham -- Votes:  85213\n",
      "Candidate:  Diana DeGette -- Votes:  272892\n",
      "Candidate:  Raymon Anthony Doane -- Votes:  11606\n"
     ]
    }
   ],
   "source": [
    "# create a dictionary for unique names\n",
    "unique = {}\n",
    "# header is being added, need to remove\n",
    "for name in candidate:\n",
    "    # checking names in list, something new\n",
    "    if name in unique:\n",
    "        unique[name] += 1\n",
    "    # checking names in list, something old, recog previously\n",
    "    else:\n",
    "        unique[name] = 1\n",
    "\n",
    "#keys for the dictionary\n",
    "unique_key = list(unique.keys())\n",
    "#frequency of appearance for keys\n",
    "unique_values = list(unique.values())\n",
    "\n",
    "for i in range(len(unique_values)):\n",
    "    print(f\"Candidate: \", unique_key[i], \"-- Votes: \", unique_values[i])"
   ]
  }
 ],
 "metadata": {
  "kernelspec": {
   "display_name": "Python 3",
   "language": "python",
   "name": "python3"
  },
  "language_info": {
   "codemirror_mode": {
    "name": "ipython",
    "version": 3
   },
   "file_extension": ".py",
   "mimetype": "text/x-python",
   "name": "python",
   "nbconvert_exporter": "python",
   "pygments_lexer": "ipython3",
   "version": "3.11.4"
  },
  "orig_nbformat": 4
 },
 "nbformat": 4,
 "nbformat_minor": 2
}
