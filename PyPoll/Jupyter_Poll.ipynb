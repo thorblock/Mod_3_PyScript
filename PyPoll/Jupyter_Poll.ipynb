{
 "cells": [
  {
   "cell_type": "code",
   "execution_count": 35,
   "metadata": {},
   "outputs": [],
   "source": [
    "# Jupyter playtest so I can segment test each script\n",
    "# Import packages\n",
    "import os\n",
    "import csv"
   ]
  },
  {
   "cell_type": "code",
   "execution_count": 36,
   "metadata": {},
   "outputs": [],
   "source": [
    "# Create and store filepath\n",
    "election_csv = os.path.join(\"\",\"Resources\",\"election_data.csv\")\n",
    "\n",
    "# Col names as empty lists, no pandas\n",
    "ballot = []\n",
    "county = []\n",
    "candidate = []"
   ]
  },
  {
   "cell_type": "code",
   "execution_count": 13,
   "metadata": {},
   "outputs": [],
   "source": [
    "# Open and read csv, with open\n",
    "with open(election_csv) as election_csv_file:\n",
    "    election_read = csv.reader(election_csv_file, delimiter = \",\")\n",
    "    # create a version without headers so the frequency check doesn't count the header\n",
    "    header = next(election_read)\n",
    "    # after head skip loop through remaining rows\n",
    "    headless_election = [row for row in election_read]\n",
    "    # append column heads to row[num]\n",
    "    for row in headless_election:\n",
    "        # append ballot list, 0\n",
    "        ballot.append(row[0])\n",
    "        # append county list, 1\n",
    "        county.append(row[1])\n",
    "        # append candidate list, 2\n",
    "        candidate.append(row[2])\n",
    "        "
   ]
  },
  {
   "cell_type": "code",
   "execution_count": 14,
   "metadata": {},
   "outputs": [
    {
     "name": "stdout",
     "output_type": "stream",
     "text": [
      "369711\n"
     ]
    }
   ],
   "source": [
    "observations = 0 \n",
    "for number in ballot:\n",
    "    observations += 1\n",
    "\n",
    "# observation count using headless_election subset\n",
    "print(observations)"
   ]
  },
  {
   "cell_type": "code",
   "execution_count": 24,
   "metadata": {},
   "outputs": [
    {
     "name": "stdout",
     "output_type": "stream",
     "text": [
      "Candidate:  Charles Casper Stockham : 23.05 % -- Votes:  85213\n",
      "Candidate:  Diana DeGette : 73.81 % -- Votes:  272892\n",
      "Candidate:  Raymon Anthony Doane : 3.14 % -- Votes:  11606\n",
      "Election Winner:  ['Diana DeGette']\n"
     ]
    }
   ],
   "source": [
    "# we want a dictionary of lists, key values will be unique names from headless_elections\n",
    "unique_dict = {}\n",
    "for name in candidate:\n",
    "    # if a name is already present in unique dictionary, frequency of name + 1\n",
    "    if name in unique_dict:\n",
    "        unique_dict[name] += 1\n",
    "    # otherwise name is added to unique dictionary, with frequency start = 1\n",
    "    else:\n",
    "        unique_dict[name] = 1\n",
    "\n",
    "# id for unique dictionary keys, list iteration limit by length\n",
    "unique_key = list(unique_dict.keys())\n",
    "# id for unique dictionary frequency adjunct\n",
    "unique_frequency = list(unique_dict.values())\n",
    "# id total sum of unique values for percentage calculation\n",
    "sum_unique_frequency = sum(unique_frequency)\n",
    "\n",
    "# id candidate with highest votes\n",
    "highest_freq = max(unique_frequency)\n",
    "# match highest number of votes to the candidate name in dictionary\n",
    "highest_name = [name for name, count in unique_dict.items() if count == highest_freq]\n",
    "\n",
    "# print iteration for length in unique dictionary \n",
    "for i in range(len(unique_frequency)):\n",
    "    # iteration var setup, candidate name, candidate vote frequency, percentage calc\n",
    "    key_names = unique_key[i]\n",
    "    frequency_names = unique_frequency[i]\n",
    "    # need to add rounding; it's literally round, rounding % to 2 places\n",
    "    percent_calc = round((frequency_names/sum_unique_frequency)*100,2)\n",
    "    print(f\"Candidate: \", key_names, \":\", percent_calc,\"%\", \"-- Votes: \", frequency_names)\n",
    "\n",
    "\n",
    "print(f\"Election Winner: \", highest_name)"
   ]
  },
  {
   "cell_type": "code",
   "execution_count": 34,
   "metadata": {},
   "outputs": [
    {
     "name": "stdout",
     "output_type": "stream",
     "text": [
      "Election Results\n",
      "---------------------------------------------\n",
      "Total Votes:  369711\n",
      "---------------------------------------------\n",
      "Candidate: Charles Casper Stockham : 23.05 % ( 85213 )\n",
      "Candidate: Diana DeGette : 73.81 % ( 272892 )\n",
      "Candidate: Raymon Anthony Doane : 3.14 % ( 11606 )\n",
      "---------------------------------------------\n",
      "Election Winner:  ['Diana DeGette']\n"
     ]
    }
   ],
   "source": [
    "# the end is nigh\n",
    "print(f\"Election Results\")\n",
    "print(f\"-\"*45)\n",
    "print(f\"Total Votes: \", observations)\n",
    "print(f\"-\"*45)\n",
    "# no function, so loop goes here\n",
    "# print iteration for length in unique dictionary \n",
    "for i in range(len(unique_frequency)):\n",
    "    # iteration var setup, candidate name, candidate vote frequency, percentage calc\n",
    "    key_names = unique_key[i]\n",
    "    frequency_names = unique_frequency[i]\n",
    "    # need to add rounding; it's literally round, rounding % to 2 places\n",
    "    percent_calc = round((frequency_names/sum_unique_frequency)*100,2)\n",
    "    print(f\"Candidate:\", key_names, \":\", percent_calc,\"%\", \"(\", frequency_names,\")\")\n",
    "\n",
    "print(f\"-\"*45)\n",
    "print(f\"Election Winner: \", str(highest_name))"
   ]
  }
 ],
 "metadata": {
  "kernelspec": {
   "display_name": "Python 3",
   "language": "python",
   "name": "python3"
  },
  "language_info": {
   "codemirror_mode": {
    "name": "ipython",
    "version": 3
   },
   "file_extension": ".py",
   "mimetype": "text/x-python",
   "name": "python",
   "nbconvert_exporter": "python",
   "pygments_lexer": "ipython3",
   "version": "3.11.4"
  },
  "orig_nbformat": 4
 },
 "nbformat": 4,
 "nbformat_minor": 2
}
